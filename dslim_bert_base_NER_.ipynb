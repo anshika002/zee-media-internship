{
  "nbformat": 4,
  "nbformat_minor": 0,
  "metadata": {
    "colab": {
      "name": "dslim / bert-base-NER .ipynb",
      "provenance": [],
      "authorship_tag": "ABX9TyPNLNe9l3F+cQU+86a8Xo6f",
      "include_colab_link": true
    },
    "kernelspec": {
      "name": "python3",
      "display_name": "Python 3"
    },
    "language_info": {
      "name": "python"
    }
  },
  "cells": [
    {
      "cell_type": "markdown",
      "metadata": {
        "id": "view-in-github",
        "colab_type": "text"
      },
      "source": [
        "<a href=\"https://colab.research.google.com/github/anshika002/zee-media-internship/blob/main/dslim_bert_base_NER_.ipynb\" target=\"_parent\"><img src=\"https://colab.research.google.com/assets/colab-badge.svg\" alt=\"Open In Colab\"/></a>"
      ]
    },
    {
      "cell_type": "code",
      "metadata": {
        "id": "eQxdfrhQ2KTf"
      },
      "source": [
        ""
      ],
      "execution_count": null,
      "outputs": []
    },
    {
      "cell_type": "code",
      "metadata": {
        "id": "eWyPOrCYbAOl",
        "colab": {
          "base_uri": "https://localhost:8080/"
        },
        "outputId": "b91bb9d7-3750-44c0-d8c3-63ba6ef2c67c"
      },
      "source": [
        "!pip install transformers\n",
        "from transformers import AutoTokenizer, AutoModelForTokenClassification\n",
        "from transformers import pipeline\n",
        "\n",
        "tokenizer = AutoTokenizer.from_pretrained(\"dslim/bert-base-NER\")\n",
        "model = AutoModelForTokenClassification.from_pretrained(\"dslim/bert-base-NER\")\n",
        "\n",
        "nlp = pipeline(\"ner\", model=model, tokenizer=tokenizer)\n",
        "example = \"\"\"\"F.B.I. Agent , Who in Texts, Is Fired - The New York Times SectionsSEARCHSkip to contentSkip to site ’s,\n",
        " PaperPolitics|F.B.I. Agent , Who in Texts, Is Firedhttps://www.nytimes.com/2018/08/13/us/politics/peter-strzok-fired-fbi.htmlAdvertisementContinue \n",
        " reading the main storySupported reading the main storyF.B.I. Agent , Who in Texts, Is FiredRead in , a top counterintelligence agent \n",
        " who was taken off the special counsel investigation after his disparaging texts about President were uncovered, was fired., , for and ., , — , \n",
        " the senior counterintelligence agent who disparaged President in inflammatory text messages and helped oversee the email and investigations, has\n",
        "  been fired for violating bureau policies, Mr. ’s lawyer said ., Mr. and his allies seized on the texts — exchanged during the campaign with a \n",
        "  former lawyer, — in assailing the investigation as an illegitimate “witch hunt.”, Mr. , who rose over at the to become one of its most \n",
        "  experienced counterintelligence agents, was a key figure in of the inquiry., Along with writing the texts, Mr. was accused of sending a\n",
        "   highly sensitive search warrant to his personal email account., The had been under immense political pressure by Mr. to dismiss Mr. , who was\n",
        "    removed from the staff of the special counsel, ., The president has repeatedly denounced Mr. in posts on , and on expressed satisfaction that \n",
        "    he had been sacked., Mr. ’s victory traces back to , when Mr. ’s conduct was laid out in a wide-ranging inspector general’s report on how the \n",
        "    handled the investigation of ’s emails in the run-up to the election., The report was critical of Mr. ’s conduct in sending the texts, and the\n",
        "     bureau’s said that Mr. should be suspended for and demoted., Mr. had testified before the in about how he had not allowed his political views \n",
        "     to interfere with the investigations he was overseeing., But Mr. ’s lawyer said the deputy director of the F.B.I., , had overruled and fired \n",
        "     Mr. ., A spokeswoman for the did not respond to a message seeking comment about why Mr. was dismissed rather than demoted., Firing Mr. , \n",
        "     however, removes a favorite target of Mr. from the ranks of the and gives Mr. and the director, , a chance to move beyond the president’s ire.,\n",
        "      , Mr. ’s lawyer, denounced his client’s dismissal., “The decision to fire Special Agent is not only a departure from typical bureau practice,\n",
        "       but also contradicts Director ’s testimony to and his assurances that the intended to follow its regular process in this and all personnel \n",
        "       matters,” Mr. said., “This decision should be deeply troubling to all ,” Mr. added., “A lengthy investigation and multiple rounds of \n",
        "       congressional testimony failed to produce a shred of evidence that Special Agent ’s personal views ever affected his work., ”Mr., ’s \n",
        "       text exchanges with Ms. demonstrated animosity toward Mr. ., In , Ms. asks: Trump is “not ever going to become president, right?, Right?!”, \n",
        "       Mr. responds: “No., No he won’t., We’ll stop it.”, The inspector general, who uncovered the messages, found no evidence that the pair\n",
        "        imposed their political views on their investigative decisions but cited that exchange as “not only indicative of a biased state of \n",
        "        mind but, even more seriously, implies a willingness to take official action to impact the presidential candidate’s electoral prospects., \n",
        "        ”The report by the inspector general, , that preceded Mr. ’s firing not only criticized his conduct in sending the texts but also his use \n",
        "        of personal email accounts to handle sensitive information., In\"\"\"\n",
        "\n",
        "ner_results = nlp(example)\n",
        "print(ner_results)"
      ],
      "execution_count": 3,
      "outputs": [
        {
          "output_type": "stream",
          "name": "stdout",
          "text": [
            "Requirement already satisfied: transformers in /usr/local/lib/python3.7/dist-packages (4.12.3)\n",
            "Requirement already satisfied: regex!=2019.12.17 in /usr/local/lib/python3.7/dist-packages (from transformers) (2019.12.20)\n",
            "Requirement already satisfied: numpy>=1.17 in /usr/local/lib/python3.7/dist-packages (from transformers) (1.19.5)\n",
            "Requirement already satisfied: packaging>=20.0 in /usr/local/lib/python3.7/dist-packages (from transformers) (21.2)\n",
            "Requirement already satisfied: tokenizers<0.11,>=0.10.1 in /usr/local/lib/python3.7/dist-packages (from transformers) (0.10.3)\n",
            "Requirement already satisfied: filelock in /usr/local/lib/python3.7/dist-packages (from transformers) (3.3.2)\n",
            "Requirement already satisfied: huggingface-hub<1.0,>=0.1.0 in /usr/local/lib/python3.7/dist-packages (from transformers) (0.1.2)\n",
            "Requirement already satisfied: pyyaml>=5.1 in /usr/local/lib/python3.7/dist-packages (from transformers) (6.0)\n",
            "Requirement already satisfied: requests in /usr/local/lib/python3.7/dist-packages (from transformers) (2.23.0)\n",
            "Requirement already satisfied: tqdm>=4.27 in /usr/local/lib/python3.7/dist-packages (from transformers) (4.62.3)\n",
            "Requirement already satisfied: sacremoses in /usr/local/lib/python3.7/dist-packages (from transformers) (0.0.46)\n",
            "Requirement already satisfied: importlib-metadata in /usr/local/lib/python3.7/dist-packages (from transformers) (4.8.1)\n",
            "Requirement already satisfied: typing-extensions>=3.7.4.3 in /usr/local/lib/python3.7/dist-packages (from huggingface-hub<1.0,>=0.1.0->transformers) (3.10.0.2)\n",
            "Requirement already satisfied: pyparsing<3,>=2.0.2 in /usr/local/lib/python3.7/dist-packages (from packaging>=20.0->transformers) (2.4.7)\n",
            "Requirement already satisfied: zipp>=0.5 in /usr/local/lib/python3.7/dist-packages (from importlib-metadata->transformers) (3.6.0)\n",
            "Requirement already satisfied: chardet<4,>=3.0.2 in /usr/local/lib/python3.7/dist-packages (from requests->transformers) (3.0.4)\n",
            "Requirement already satisfied: idna<3,>=2.5 in /usr/local/lib/python3.7/dist-packages (from requests->transformers) (2.10)\n",
            "Requirement already satisfied: certifi>=2017.4.17 in /usr/local/lib/python3.7/dist-packages (from requests->transformers) (2021.10.8)\n",
            "Requirement already satisfied: urllib3!=1.25.0,!=1.25.1,<1.26,>=1.21.1 in /usr/local/lib/python3.7/dist-packages (from requests->transformers) (1.24.3)\n",
            "Requirement already satisfied: joblib in /usr/local/lib/python3.7/dist-packages (from sacremoses->transformers) (1.1.0)\n",
            "Requirement already satisfied: click in /usr/local/lib/python3.7/dist-packages (from sacremoses->transformers) (7.1.2)\n",
            "Requirement already satisfied: six in /usr/local/lib/python3.7/dist-packages (from sacremoses->transformers) (1.15.0)\n",
            "[{'entity': 'B-ORG', 'score': 0.7152603, 'index': 2, 'word': 'F', 'start': 1, 'end': 2}, {'entity': 'I-ORG', 'score': 0.95744085, 'index': 4, 'word': 'B', 'start': 3, 'end': 4}, {'entity': 'I-ORG', 'score': 0.54057825, 'index': 6, 'word': 'I', 'start': 5, 'end': 6}, {'entity': 'I-ORG', 'score': 0.98256046, 'index': 20, 'word': 'New', 'start': 45, 'end': 48}, {'entity': 'I-ORG', 'score': 0.9904584, 'index': 21, 'word': 'York', 'start': 49, 'end': 53}, {'entity': 'I-ORG', 'score': 0.96546465, 'index': 22, 'word': 'Times', 'start': 54, 'end': 59}, {'entity': 'B-ORG', 'score': 0.98306435, 'index': 41, 'word': 'Paper', 'start': 107, 'end': 112}, {'entity': 'I-ORG', 'score': 0.93871653, 'index': 42, 'word': '##P', 'start': 112, 'end': 113}, {'entity': 'I-ORG', 'score': 0.9359465, 'index': 43, 'word': '##oli', 'start': 113, 'end': 116}, {'entity': 'I-ORG', 'score': 0.9498836, 'index': 44, 'word': '##tics', 'start': 116, 'end': 120}, {'entity': 'I-ORG', 'score': 0.82892156, 'index': 48, 'word': 'B', 'start': 123, 'end': 124}, {'entity': 'B-ORG', 'score': 0.67615145, 'index': 120, 'word': '##F', 'start': 310, 'end': 311}, {'entity': 'I-ORG', 'score': 0.5930426, 'index': 122, 'word': 'B', 'start': 312, 'end': 313}]\n"
          ]
        }
      ]
    }
  ]
}